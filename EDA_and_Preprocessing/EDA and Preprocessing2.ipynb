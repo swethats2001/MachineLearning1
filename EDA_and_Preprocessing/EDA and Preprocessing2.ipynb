{
 "cells": [
  {
   "cell_type": "markdown",
   "id": "0f249fb8-63f9-4c39-aa51-45275b7bcdbc",
   "metadata": {},
   "source": [
    "# Steps in this work\n",
    "1. Data Exploration:\n",
    "Explore the data, list down the unique values in each feature and find its length.\n",
    "Perform the statistical analysis and renaming of the columns.\n",
    "\n",
    "2. Data Cleaning:\n",
    "Find the missing and inappropriate values, treat them appropriately.\n",
    "Remove all duplicate rows.\n",
    "Find the outliers.\n",
    "Replace the value 0 in age as NaN\n",
    "Treat the null values in all columns using any measures(removing/ replace the values with mean/median/mode)\n",
    "\n",
    "3. Data Analysis: \n",
    "Filter the data with age >40 and salary<5000\n",
    "Plot the chart with age and salary\n",
    "Count the number of people from each place and represent it visually\n",
    "\n",
    "4. Data Encoding:\n",
    "Convert categorical variables into numerical representations using techniques such as one-hot encoding, label encoding, making them suitable for analysis by machine learning algorithms.\n",
    "\n",
    "5. Feature Scaling:\n",
    "After the process of encoding, perform the scaling of the features using standardscaler and minmaxscaler.\n"
   ]
  },
  {
   "cell_type": "code",
   "execution_count": 71,
   "id": "8a411f27-f9a7-4855-99fa-b92e06bdcd55",
   "metadata": {},
   "outputs": [],
   "source": [
    "# Importing all the necessary libraries\n",
    "import pandas as pd\n",
    "import matplotlib.pyplot as plt\n",
    "import seaborn as sns\n",
    "import numpy as np\n",
    "from scipy.stats import iqr, zscore, skew\n",
    "from sklearn.preprocessing import LabelEncoder\n",
    "from sklearn.preprocessing import OneHotEncoder\n",
    "from sklearn.model_selection import train_test_split\n",
    "from sklearn.preprocessing import StandardScaler, MinMaxScaler\n",
    "import warnings\n",
    "warnings.filterwarnings(\"ignore\")"
   ]
  },
  {
   "cell_type": "code",
   "execution_count": 6,
   "id": "85e4fccd-e3e6-4cd7-9a2a-cdded4a1c5fb",
   "metadata": {},
   "outputs": [
    {
     "data": {
      "text/html": [
       "<div>\n",
       "<style scoped>\n",
       "    .dataframe tbody tr th:only-of-type {\n",
       "        vertical-align: middle;\n",
       "    }\n",
       "\n",
       "    .dataframe tbody tr th {\n",
       "        vertical-align: top;\n",
       "    }\n",
       "\n",
       "    .dataframe thead th {\n",
       "        text-align: right;\n",
       "    }\n",
       "</style>\n",
       "<table border=\"1\" class=\"dataframe\">\n",
       "  <thead>\n",
       "    <tr style=\"text-align: right;\">\n",
       "      <th></th>\n",
       "      <th>Company</th>\n",
       "      <th>Age</th>\n",
       "      <th>Salary</th>\n",
       "      <th>Place</th>\n",
       "      <th>Country</th>\n",
       "      <th>Gender</th>\n",
       "    </tr>\n",
       "  </thead>\n",
       "  <tbody>\n",
       "    <tr>\n",
       "      <th>0</th>\n",
       "      <td>TCS</td>\n",
       "      <td>20.0</td>\n",
       "      <td>NaN</td>\n",
       "      <td>Chennai</td>\n",
       "      <td>India</td>\n",
       "      <td>0</td>\n",
       "    </tr>\n",
       "    <tr>\n",
       "      <th>1</th>\n",
       "      <td>Infosys</td>\n",
       "      <td>30.0</td>\n",
       "      <td>NaN</td>\n",
       "      <td>Mumbai</td>\n",
       "      <td>India</td>\n",
       "      <td>0</td>\n",
       "    </tr>\n",
       "    <tr>\n",
       "      <th>2</th>\n",
       "      <td>TCS</td>\n",
       "      <td>35.0</td>\n",
       "      <td>2300.0</td>\n",
       "      <td>Calcutta</td>\n",
       "      <td>India</td>\n",
       "      <td>0</td>\n",
       "    </tr>\n",
       "    <tr>\n",
       "      <th>3</th>\n",
       "      <td>Infosys</td>\n",
       "      <td>40.0</td>\n",
       "      <td>3000.0</td>\n",
       "      <td>Delhi</td>\n",
       "      <td>India</td>\n",
       "      <td>0</td>\n",
       "    </tr>\n",
       "    <tr>\n",
       "      <th>4</th>\n",
       "      <td>TCS</td>\n",
       "      <td>23.0</td>\n",
       "      <td>4000.0</td>\n",
       "      <td>Mumbai</td>\n",
       "      <td>India</td>\n",
       "      <td>0</td>\n",
       "    </tr>\n",
       "    <tr>\n",
       "      <th>...</th>\n",
       "      <td>...</td>\n",
       "      <td>...</td>\n",
       "      <td>...</td>\n",
       "      <td>...</td>\n",
       "      <td>...</td>\n",
       "      <td>...</td>\n",
       "    </tr>\n",
       "    <tr>\n",
       "      <th>143</th>\n",
       "      <td>TCS</td>\n",
       "      <td>33.0</td>\n",
       "      <td>9024.0</td>\n",
       "      <td>Calcutta</td>\n",
       "      <td>India</td>\n",
       "      <td>1</td>\n",
       "    </tr>\n",
       "    <tr>\n",
       "      <th>144</th>\n",
       "      <td>Infosys</td>\n",
       "      <td>22.0</td>\n",
       "      <td>8787.0</td>\n",
       "      <td>Calcutta</td>\n",
       "      <td>India</td>\n",
       "      <td>1</td>\n",
       "    </tr>\n",
       "    <tr>\n",
       "      <th>145</th>\n",
       "      <td>Infosys</td>\n",
       "      <td>44.0</td>\n",
       "      <td>4034.0</td>\n",
       "      <td>Delhi</td>\n",
       "      <td>India</td>\n",
       "      <td>1</td>\n",
       "    </tr>\n",
       "    <tr>\n",
       "      <th>146</th>\n",
       "      <td>TCS</td>\n",
       "      <td>33.0</td>\n",
       "      <td>5034.0</td>\n",
       "      <td>Mumbai</td>\n",
       "      <td>India</td>\n",
       "      <td>1</td>\n",
       "    </tr>\n",
       "    <tr>\n",
       "      <th>147</th>\n",
       "      <td>Infosys</td>\n",
       "      <td>22.0</td>\n",
       "      <td>8202.0</td>\n",
       "      <td>Cochin</td>\n",
       "      <td>India</td>\n",
       "      <td>0</td>\n",
       "    </tr>\n",
       "  </tbody>\n",
       "</table>\n",
       "<p>148 rows × 6 columns</p>\n",
       "</div>"
      ],
      "text/plain": [
       "     Company   Age  Salary     Place Country  Gender\n",
       "0        TCS  20.0     NaN   Chennai   India       0\n",
       "1    Infosys  30.0     NaN    Mumbai   India       0\n",
       "2        TCS  35.0  2300.0  Calcutta   India       0\n",
       "3    Infosys  40.0  3000.0     Delhi   India       0\n",
       "4        TCS  23.0  4000.0    Mumbai   India       0\n",
       "..       ...   ...     ...       ...     ...     ...\n",
       "143      TCS  33.0  9024.0  Calcutta   India       1\n",
       "144  Infosys  22.0  8787.0  Calcutta   India       1\n",
       "145  Infosys  44.0  4034.0     Delhi   India       1\n",
       "146      TCS  33.0  5034.0    Mumbai   India       1\n",
       "147  Infosys  22.0  8202.0    Cochin   India       0\n",
       "\n",
       "[148 rows x 6 columns]"
      ]
     },
     "execution_count": 6,
     "metadata": {},
     "output_type": "execute_result"
    }
   ],
   "source": [
    "#Read data\n",
    "df=pd.read_csv(\"Employee.csv\")\n",
    "df"
   ]
  },
  {
   "cell_type": "code",
   "execution_count": 7,
   "id": "9cc46fdc-ea32-4e3a-ae99-fb9eda818eda",
   "metadata": {},
   "outputs": [
    {
     "name": "stdout",
     "output_type": "stream",
     "text": [
      "Basic information:\n",
      "<class 'pandas.core.frame.DataFrame'>\n",
      "RangeIndex: 148 entries, 0 to 147\n",
      "Data columns (total 6 columns):\n",
      " #   Column   Non-Null Count  Dtype  \n",
      "---  ------   --------------  -----  \n",
      " 0   Company  140 non-null    object \n",
      " 1   Age      130 non-null    float64\n",
      " 2   Salary   124 non-null    float64\n",
      " 3   Place    134 non-null    object \n",
      " 4   Country  148 non-null    object \n",
      " 5   Gender   148 non-null    int64  \n",
      "dtypes: float64(2), int64(1), object(3)\n",
      "memory usage: 7.1+ KB\n"
     ]
    }
   ],
   "source": [
    "print(\"Basic information:\")\n",
    "df.info()"
   ]
  },
  {
   "cell_type": "code",
   "execution_count": 8,
   "id": "bc8c6ec7-1217-4b74-9728-b71db14d8b4e",
   "metadata": {},
   "outputs": [
    {
     "name": "stdout",
     "output_type": "stream",
     "text": [
      "Rows and column distribution:\n"
     ]
    },
    {
     "data": {
      "text/plain": [
       "(148, 6)"
      ]
     },
     "execution_count": 8,
     "metadata": {},
     "output_type": "execute_result"
    }
   ],
   "source": [
    "print(\"Rows and column distribution:\")\n",
    "df.shape"
   ]
  },
  {
   "cell_type": "code",
   "execution_count": 9,
   "id": "e37ffe38-4aee-4ab0-bbaa-5139c418e7a7",
   "metadata": {},
   "outputs": [
    {
     "name": "stdout",
     "output_type": "stream",
     "text": [
      "Columns:\n"
     ]
    },
    {
     "data": {
      "text/plain": [
       "Index(['Company', 'Age', 'Salary', 'Place', 'Country', 'Gender'], dtype='object')"
      ]
     },
     "execution_count": 9,
     "metadata": {},
     "output_type": "execute_result"
    }
   ],
   "source": [
    "print(\"Columns:\")\n",
    "df.columns"
   ]
  },
  {
   "cell_type": "code",
   "execution_count": 10,
   "id": "5c6724f5-ecbc-41e8-bfa4-3d94023683e8",
   "metadata": {},
   "outputs": [
    {
     "name": "stdout",
     "output_type": "stream",
     "text": [
      "Statistical description:\n"
     ]
    },
    {
     "data": {
      "text/html": [
       "<div>\n",
       "<style scoped>\n",
       "    .dataframe tbody tr th:only-of-type {\n",
       "        vertical-align: middle;\n",
       "    }\n",
       "\n",
       "    .dataframe tbody tr th {\n",
       "        vertical-align: top;\n",
       "    }\n",
       "\n",
       "    .dataframe thead th {\n",
       "        text-align: right;\n",
       "    }\n",
       "</style>\n",
       "<table border=\"1\" class=\"dataframe\">\n",
       "  <thead>\n",
       "    <tr style=\"text-align: right;\">\n",
       "      <th></th>\n",
       "      <th>Age</th>\n",
       "      <th>Salary</th>\n",
       "      <th>Gender</th>\n",
       "    </tr>\n",
       "  </thead>\n",
       "  <tbody>\n",
       "    <tr>\n",
       "      <th>count</th>\n",
       "      <td>130.000000</td>\n",
       "      <td>124.000000</td>\n",
       "      <td>148.000000</td>\n",
       "    </tr>\n",
       "    <tr>\n",
       "      <th>mean</th>\n",
       "      <td>30.484615</td>\n",
       "      <td>5312.467742</td>\n",
       "      <td>0.222973</td>\n",
       "    </tr>\n",
       "    <tr>\n",
       "      <th>std</th>\n",
       "      <td>11.096640</td>\n",
       "      <td>2573.764683</td>\n",
       "      <td>0.417654</td>\n",
       "    </tr>\n",
       "    <tr>\n",
       "      <th>min</th>\n",
       "      <td>0.000000</td>\n",
       "      <td>1089.000000</td>\n",
       "      <td>0.000000</td>\n",
       "    </tr>\n",
       "    <tr>\n",
       "      <th>25%</th>\n",
       "      <td>22.000000</td>\n",
       "      <td>3030.000000</td>\n",
       "      <td>0.000000</td>\n",
       "    </tr>\n",
       "    <tr>\n",
       "      <th>50%</th>\n",
       "      <td>32.500000</td>\n",
       "      <td>5000.000000</td>\n",
       "      <td>0.000000</td>\n",
       "    </tr>\n",
       "    <tr>\n",
       "      <th>75%</th>\n",
       "      <td>37.750000</td>\n",
       "      <td>8000.000000</td>\n",
       "      <td>0.000000</td>\n",
       "    </tr>\n",
       "    <tr>\n",
       "      <th>max</th>\n",
       "      <td>54.000000</td>\n",
       "      <td>9876.000000</td>\n",
       "      <td>1.000000</td>\n",
       "    </tr>\n",
       "  </tbody>\n",
       "</table>\n",
       "</div>"
      ],
      "text/plain": [
       "              Age       Salary      Gender\n",
       "count  130.000000   124.000000  148.000000\n",
       "mean    30.484615  5312.467742    0.222973\n",
       "std     11.096640  2573.764683    0.417654\n",
       "min      0.000000  1089.000000    0.000000\n",
       "25%     22.000000  3030.000000    0.000000\n",
       "50%     32.500000  5000.000000    0.000000\n",
       "75%     37.750000  8000.000000    0.000000\n",
       "max     54.000000  9876.000000    1.000000"
      ]
     },
     "execution_count": 10,
     "metadata": {},
     "output_type": "execute_result"
    }
   ],
   "source": [
    "print(\"Statistical description:\")\n",
    "df.describe()"
   ]
  },
  {
   "cell_type": "code",
   "execution_count": 11,
   "id": "36fe4deb-5ddd-4c87-8aa4-81a238b95470",
   "metadata": {},
   "outputs": [
    {
     "name": "stdout",
     "output_type": "stream",
     "text": [
      "Missing values:\n"
     ]
    },
    {
     "data": {
      "text/plain": [
       "Company     8\n",
       "Age        18\n",
       "Salary     24\n",
       "Place      14\n",
       "Country     0\n",
       "Gender      0\n",
       "dtype: int64"
      ]
     },
     "execution_count": 11,
     "metadata": {},
     "output_type": "execute_result"
    }
   ],
   "source": [
    "print(\"Missing values:\")\n",
    "df.isnull().sum()"
   ]
  },
  {
   "cell_type": "code",
   "execution_count": 12,
   "id": "8a937dc2-2e41-412e-a6c8-5fc289f48fe4",
   "metadata": {},
   "outputs": [],
   "source": [
    "# Handling Null Values\n",
    "# numerical column\n",
    "df['Age'] = df['Age'].replace(0, np.nan)  #Replace the value 0 in age as NaN\n",
    "df['Salary'] = df['Salary'].fillna(df['Salary'].mean())"
   ]
  },
  {
   "cell_type": "code",
   "execution_count": 13,
   "id": "29f01dfd-4409-4e72-9f48-3d5fbc9e31b2",
   "metadata": {},
   "outputs": [],
   "source": [
    "# Handling Null Values\n",
    "# categorical column\n",
    "df['Company'] = df['Company'].fillna(df['Company'].mode()[0])\n",
    "df['Place'] = df['Place'].fillna(df['Place'].mode()[0])"
   ]
  },
  {
   "cell_type": "code",
   "execution_count": 14,
   "id": "508ce5fc-65ad-4872-9db1-d70a71af4446",
   "metadata": {},
   "outputs": [
    {
     "name": "stdout",
     "output_type": "stream",
     "text": [
      "Missing values:\n"
     ]
    },
    {
     "data": {
      "text/plain": [
       "Company     0\n",
       "Age        24\n",
       "Salary      0\n",
       "Place       0\n",
       "Country     0\n",
       "Gender      0\n",
       "dtype: int64"
      ]
     },
     "execution_count": 14,
     "metadata": {},
     "output_type": "execute_result"
    }
   ],
   "source": [
    "# Finding missing values\n",
    "print(\"Missing values:\")\n",
    "df.isnull().sum()"
   ]
  },
  {
   "cell_type": "code",
   "execution_count": 15,
   "id": "0a4d4a13-c23a-4e99-b97b-e9a898dcc32a",
   "metadata": {},
   "outputs": [
    {
     "data": {
      "text/html": [
       "<div>\n",
       "<style scoped>\n",
       "    .dataframe tbody tr th:only-of-type {\n",
       "        vertical-align: middle;\n",
       "    }\n",
       "\n",
       "    .dataframe tbody tr th {\n",
       "        vertical-align: top;\n",
       "    }\n",
       "\n",
       "    .dataframe thead th {\n",
       "        text-align: right;\n",
       "    }\n",
       "</style>\n",
       "<table border=\"1\" class=\"dataframe\">\n",
       "  <thead>\n",
       "    <tr style=\"text-align: right;\">\n",
       "      <th></th>\n",
       "      <th>Company</th>\n",
       "      <th>Age</th>\n",
       "      <th>Salary</th>\n",
       "      <th>Place</th>\n",
       "      <th>Country</th>\n",
       "      <th>Gender</th>\n",
       "    </tr>\n",
       "  </thead>\n",
       "  <tbody>\n",
       "    <tr>\n",
       "      <th>0</th>\n",
       "      <td>TCS</td>\n",
       "      <td>20.0</td>\n",
       "      <td>5312.467742</td>\n",
       "      <td>Chennai</td>\n",
       "      <td>India</td>\n",
       "      <td>0</td>\n",
       "    </tr>\n",
       "    <tr>\n",
       "      <th>1</th>\n",
       "      <td>Infosys</td>\n",
       "      <td>30.0</td>\n",
       "      <td>5312.467742</td>\n",
       "      <td>Mumbai</td>\n",
       "      <td>India</td>\n",
       "      <td>0</td>\n",
       "    </tr>\n",
       "    <tr>\n",
       "      <th>2</th>\n",
       "      <td>TCS</td>\n",
       "      <td>35.0</td>\n",
       "      <td>2300.000000</td>\n",
       "      <td>Calcutta</td>\n",
       "      <td>India</td>\n",
       "      <td>0</td>\n",
       "    </tr>\n",
       "    <tr>\n",
       "      <th>3</th>\n",
       "      <td>Infosys</td>\n",
       "      <td>40.0</td>\n",
       "      <td>3000.000000</td>\n",
       "      <td>Delhi</td>\n",
       "      <td>India</td>\n",
       "      <td>0</td>\n",
       "    </tr>\n",
       "    <tr>\n",
       "      <th>4</th>\n",
       "      <td>TCS</td>\n",
       "      <td>23.0</td>\n",
       "      <td>4000.000000</td>\n",
       "      <td>Mumbai</td>\n",
       "      <td>India</td>\n",
       "      <td>0</td>\n",
       "    </tr>\n",
       "    <tr>\n",
       "      <th>...</th>\n",
       "      <td>...</td>\n",
       "      <td>...</td>\n",
       "      <td>...</td>\n",
       "      <td>...</td>\n",
       "      <td>...</td>\n",
       "      <td>...</td>\n",
       "    </tr>\n",
       "    <tr>\n",
       "      <th>143</th>\n",
       "      <td>TCS</td>\n",
       "      <td>33.0</td>\n",
       "      <td>9024.000000</td>\n",
       "      <td>Calcutta</td>\n",
       "      <td>India</td>\n",
       "      <td>1</td>\n",
       "    </tr>\n",
       "    <tr>\n",
       "      <th>144</th>\n",
       "      <td>Infosys</td>\n",
       "      <td>22.0</td>\n",
       "      <td>8787.000000</td>\n",
       "      <td>Calcutta</td>\n",
       "      <td>India</td>\n",
       "      <td>1</td>\n",
       "    </tr>\n",
       "    <tr>\n",
       "      <th>145</th>\n",
       "      <td>Infosys</td>\n",
       "      <td>44.0</td>\n",
       "      <td>4034.000000</td>\n",
       "      <td>Delhi</td>\n",
       "      <td>India</td>\n",
       "      <td>1</td>\n",
       "    </tr>\n",
       "    <tr>\n",
       "      <th>146</th>\n",
       "      <td>TCS</td>\n",
       "      <td>33.0</td>\n",
       "      <td>5034.000000</td>\n",
       "      <td>Mumbai</td>\n",
       "      <td>India</td>\n",
       "      <td>1</td>\n",
       "    </tr>\n",
       "    <tr>\n",
       "      <th>147</th>\n",
       "      <td>Infosys</td>\n",
       "      <td>22.0</td>\n",
       "      <td>8202.000000</td>\n",
       "      <td>Cochin</td>\n",
       "      <td>India</td>\n",
       "      <td>0</td>\n",
       "    </tr>\n",
       "  </tbody>\n",
       "</table>\n",
       "<p>148 rows × 6 columns</p>\n",
       "</div>"
      ],
      "text/plain": [
       "     Company   Age       Salary     Place Country  Gender\n",
       "0        TCS  20.0  5312.467742   Chennai   India       0\n",
       "1    Infosys  30.0  5312.467742    Mumbai   India       0\n",
       "2        TCS  35.0  2300.000000  Calcutta   India       0\n",
       "3    Infosys  40.0  3000.000000     Delhi   India       0\n",
       "4        TCS  23.0  4000.000000    Mumbai   India       0\n",
       "..       ...   ...          ...       ...     ...     ...\n",
       "143      TCS  33.0  9024.000000  Calcutta   India       1\n",
       "144  Infosys  22.0  8787.000000  Calcutta   India       1\n",
       "145  Infosys  44.0  4034.000000     Delhi   India       1\n",
       "146      TCS  33.0  5034.000000    Mumbai   India       1\n",
       "147  Infosys  22.0  8202.000000    Cochin   India       0\n",
       "\n",
       "[148 rows x 6 columns]"
      ]
     },
     "execution_count": 15,
     "metadata": {},
     "output_type": "execute_result"
    }
   ],
   "source": [
    "df"
   ]
  },
  {
   "cell_type": "markdown",
   "id": "f99313c0-3880-42cb-bd5c-65ca7ebe5475",
   "metadata": {},
   "source": [
    "Explore the data, list down the unique values in each feature and find its length.\n",
    "Perform the statistical analysis and renaming of the columns."
   ]
  },
  {
   "cell_type": "code",
   "execution_count": 17,
   "id": "434c025e-ecdd-4aac-bea3-f9f340c691c7",
   "metadata": {},
   "outputs": [
    {
     "name": "stdout",
     "output_type": "stream",
     "text": [
      "Unique Values and Their Counts:\n",
      "Company: 6 unique values\n",
      "['TCS' 'Infosys' 'CTS' 'Tata Consultancy Services' 'Congnizant'\n",
      " 'Infosys Pvt Lmt']\n",
      "\n",
      "Age: 29 unique values\n",
      "[20. 30. 35. 40. 23. nan 34. 45. 18. 22. 32. 37. 50. 21. 46. 36. 26. 41.\n",
      " 24. 25. 43. 19. 38. 51. 31. 44. 33. 17. 54.]\n",
      "\n",
      "Salary: 41 unique values\n",
      "[5312.46774194 2300.         3000.         4000.         5000.\n",
      " 6000.         7000.         8000.         9000.         1089.\n",
      " 1234.         3030.         3045.         3184.         4824.\n",
      " 5835.         7084.         8943.         8345.         9284.\n",
      " 9876.         2034.         7654.         2934.         4034.\n",
      " 5034.         8202.         9024.         4345.         6544.\n",
      " 6543.         3234.         4324.         5435.         5555.\n",
      " 8787.         3454.         5654.         5009.         5098.\n",
      " 3033.        ]\n",
      "\n",
      "Place: 11 unique values\n",
      "['Chennai' 'Mumbai' 'Calcutta' 'Delhi' 'Podicherry' 'Cochin' 'Noida'\n",
      " 'Hyderabad' 'Bhopal' 'Nagpur' 'Pune']\n",
      "\n",
      "Country: 1 unique values\n",
      "['India']\n",
      "\n",
      "Gender: 2 unique values\n",
      "[0 1]\n",
      "\n"
     ]
    }
   ],
   "source": [
    "unique_values = {col: (df[col].unique(), len(df[col].unique())) for col in df.columns}\n",
    "print(\"Unique Values and Their Counts:\")\n",
    "for col, (values, count) in unique_values.items():\n",
    "    print(f\"{col}: {count} unique values\\n{values}\\n\")"
   ]
  },
  {
   "cell_type": "code",
   "execution_count": 18,
   "id": "3212f386-3d7e-4e28-9b9b-bf2c4750622e",
   "metadata": {},
   "outputs": [
    {
     "name": "stdout",
     "output_type": "stream",
     "text": [
      "\n",
      "Statistical Analysis:\n",
      "       Company         Age       Salary   Place Country      Gender\n",
      "count      148  124.000000   148.000000     148     148  148.000000\n",
      "unique       6         NaN          NaN      11       1         NaN\n",
      "top        TCS         NaN          NaN  Mumbai   India         NaN\n",
      "freq        61         NaN          NaN      51     148         NaN\n",
      "mean       NaN   31.959677  5312.467742     NaN     NaN    0.222973\n",
      "std        NaN    9.034171  2354.305003     NaN     NaN    0.417654\n",
      "min        NaN   17.000000  1089.000000     NaN     NaN    0.000000\n",
      "25%        NaN   23.000000  3149.250000     NaN     NaN    0.000000\n",
      "50%        NaN   33.000000  5312.467742     NaN     NaN    0.000000\n",
      "75%        NaN   40.000000  7084.000000     NaN     NaN    0.000000\n",
      "max        NaN   54.000000  9876.000000     NaN     NaN    1.000000\n"
     ]
    }
   ],
   "source": [
    "print(\"\\nStatistical Analysis:\")\n",
    "statistical_analysis = df.describe(include='all')\n",
    "print(statistical_analysis)"
   ]
  },
  {
   "cell_type": "code",
   "execution_count": 19,
   "id": "41ec10d3-4e98-4a47-8864-5775aeb4e83c",
   "metadata": {},
   "outputs": [],
   "source": [
    "# Renaming columns\n",
    "df.rename(columns={\n",
    "    'Company': 'Company_Name',\n",
    "    'Age': 'Employee_Age',\n",
    "    'Salary': 'Employee_Salary',\n",
    "    'Place': 'Location',\n",
    "    'Country': 'Country_Name',\n",
    "    'Gender': 'Gender(0=Male, 1=Female)'\n",
    "}, inplace=True)"
   ]
  },
  {
   "cell_type": "code",
   "execution_count": 20,
   "id": "e15c9203-be3e-46ee-950e-8e2889ddd6a1",
   "metadata": {},
   "outputs": [],
   "source": [
    "df.rename(columns={\n",
    "    'Gender': 'Gender(0=Male, 1=Female)'\n",
    "}, inplace=True)"
   ]
  },
  {
   "cell_type": "code",
   "execution_count": 21,
   "id": "bf66fdc0-337b-411e-a26e-b6447fd827c0",
   "metadata": {},
   "outputs": [
    {
     "name": "stdout",
     "output_type": "stream",
     "text": [
      "  Company_Name  Employee_Age  Employee_Salary  Location Country_Name  \\\n",
      "0          TCS          20.0      5312.467742   Chennai        India   \n",
      "1      Infosys          30.0      5312.467742    Mumbai        India   \n",
      "2          TCS          35.0      2300.000000  Calcutta        India   \n",
      "3      Infosys          40.0      3000.000000     Delhi        India   \n",
      "4          TCS          23.0      4000.000000    Mumbai        India   \n",
      "\n",
      "   Gender(0=Male, 1=Female)  \n",
      "0                         0  \n",
      "1                         0  \n",
      "2                         0  \n",
      "3                         0  \n",
      "4                         0  \n"
     ]
    }
   ],
   "source": [
    "print(df.head())"
   ]
  },
  {
   "cell_type": "code",
   "execution_count": 22,
   "id": "b7c713d4-3fad-4047-b6a3-88224daa3e8a",
   "metadata": {},
   "outputs": [
    {
     "data": {
      "image/png": "[encoded data removed]",
      "text/plain": [
       "<Figure size 800x600 with 1 Axes>"
      ]
     },
     "metadata": {},
     "output_type": "display_data"
    }
   ],
   "source": [
    "# Visualizations\n",
    "plt.figure(figsize=(8, 6))\n",
    "sns.countplot(x='Company_Name', hue='Gender(0=Male, 1=Female)', data=df, palette='Set2')\n",
    "plt.title('Gender Distribution in Each Company')\n",
    "plt.xlabel('Company')\n",
    "plt.ylabel('Count')\n",
    "plt.legend(title='Gender', labels=['Male', 'Female'])\n",
    "plt.xticks(rotation=45)\n",
    "plt.tight_layout()\n",
    "plt.show()"
   ]
  },
  {
   "cell_type": "code",
   "execution_count": 23,
   "id": "ed98076b-2754-4ea2-b868-fdf1b18c6463",
   "metadata": {},
   "outputs": [
    {
     "name": "stdout",
     "output_type": "stream",
     "text": [
      "Column Employee_Age\n",
      "Skew: 0.26712459210333117\n",
      "Kurtosis: -0.9985725557794884\n",
      "Column Employee_Salary\n",
      "Skew: 0.18496043205850027\n",
      "Kurtosis: -0.9055215347506671\n",
      "Column Gender(0=Male, 1=Female)\n",
      "Skew: 1.3447595326185993\n",
      "Kurtosis: -0.19443339351495004\n"
     ]
    }
   ],
   "source": [
    "# Skew and Kurtosis \n",
    "columns=[\"Employee_Age\",\"Employee_Salary\",\"Gender(0=Male, 1=Female)\"]\n",
    "for i in columns:\n",
    "    print(\"Column\",i)\n",
    "    print(\"Skew:\",df[i].skew())\n",
    "    print(\"Kurtosis:\",df[i].kurtosis())"
   ]
  },
  {
   "cell_type": "code",
   "execution_count": 24,
   "id": "d1ee1f34-f699-4be1-8695-c218fd49068f",
   "metadata": {},
   "outputs": [
    {
     "data": {
      "image/png": "[encoded data removed]",
      "text/plain": [
       "<Figure size 1000x600 with 2 Axes>"
      ]
     },
     "metadata": {},
     "output_type": "display_data"
    }
   ],
   "source": [
    "#Correlation heatmap\n",
    "cols = ['Employee_Age', 'Employee_Salary', 'Gender(0=Male, 1=Female)']\n",
    "correlation_matrix = df[cols].corr()\n",
    "plt.figure(figsize=(10, 6))\n",
    "sns.heatmap(correlation_matrix, annot=True, cmap='coolwarm', fmt='.2f')\n",
    "plt.title('Correlation Heatmap')\n",
    "plt.show()"
   ]
  },
  {
   "cell_type": "markdown",
   "id": "34ff12ef-4be7-4b71-9ee3-e941be4d81e8",
   "metadata": {},
   "source": [
    "Employee_Age,Employee_Salary columns are fairly symmetrical, whereas column Gender(0=Male, 1=Female) is asymmetrical (skewness value not between -0.5 to 0.5)"
   ]
  },
  {
   "cell_type": "code",
   "execution_count": 26,
   "id": "bddf8768-a9f8-44e1-9afa-fd7765fc520d",
   "metadata": {},
   "outputs": [
    {
     "data": {
      "image/png": "[encoded data removed]",
      "text/plain": [
       "<Figure size 1600x1000 with 4 Axes>"
      ]
     },
     "metadata": {},
     "output_type": "display_data"
    }
   ],
   "source": [
    "#Boxplot for numerical columns\n",
    "numerical_cols = ['Employee_Age', 'Employee_Salary', 'Gender(0=Male, 1=Female)']\n",
    "df[numerical_cols].plot(kind='box', subplots=True, layout=(2, 2), figsize=(16, 10))\n",
    "plt.tight_layout()\n",
    "plt.show()"
   ]
  },
  {
   "cell_type": "markdown",
   "id": "710efe31-46a0-40d1-b224-5c7309f180d6",
   "metadata": {},
   "source": [
    "Gender(0=Male, 1=Female) column shows very low amount of outliers, so removing them can be skipped."
   ]
  },
  {
   "cell_type": "markdown",
   "id": "4e99a124-a0c4-46f7-a9ac-8411d64f570c",
   "metadata": {},
   "source": [
    "Filter the data with age >40 and salary<5000\n",
    "Plot the chart with age and salary\n",
    "Count the number of people from each place and represent it visually"
   ]
  },
  {
   "cell_type": "code",
   "execution_count": 29,
   "id": "f1367712-c436-490a-ac29-6534b0f277a1",
   "metadata": {},
   "outputs": [
    {
     "data": {
      "image/png": "[encoded data removed]",
      "text/plain": [
       "<Figure size 800x600 with 1 Axes>"
      ]
     },
     "metadata": {},
     "output_type": "display_data"
    }
   ],
   "source": [
    "# Filtering the data with age > 40 and salary < 5000\n",
    "data = df[(df['Employee_Age'] > 40) & (df['Employee_Salary'] < 5000)]\n",
    "# Plotting age vs salary for the filtered data\n",
    "plt.figure(figsize=(8, 6))\n",
    "plt.scatter(data['Employee_Age'], data['Employee_Salary'], color='teal')\n",
    "plt.title('Age vs Salary (Age > 40 & Salary < 5000)')\n",
    "plt.xlabel('Employee Age')\n",
    "plt.ylabel('Employee Salary')\n",
    "plt.grid(True)\n",
    "plt.tight_layout()\n",
    "plt.show()"
   ]
  },
  {
   "cell_type": "markdown",
   "id": "5961143d-1bed-4a3e-8b3b-725054cffd0e",
   "metadata": {},
   "source": [
    "Most of the employees have salary below 3400 according to the chart"
   ]
  },
  {
   "cell_type": "code",
   "execution_count": 31,
   "id": "5caea470-d3a8-442b-b8ee-2f7feb7d0908",
   "metadata": {},
   "outputs": [
    {
     "data": {
      "image/png": "[encoded data removed]",
      "text/plain": [
       "<Figure size 1000x600 with 1 Axes>"
      ]
     },
     "metadata": {},
     "output_type": "display_data"
    }
   ],
   "source": [
    "count = df['Location'].value_counts()\n",
    "# Visual representation of people count from each place\n",
    "plt.figure(figsize=(10, 6))\n",
    "sns.barplot(x=count.index, y=count.values, palette='viridis')\n",
    "plt.title('Number of People from Each Place')\n",
    "plt.xlabel('Location')\n",
    "plt.ylabel('Count')\n",
    "plt.xticks(rotation=45)\n",
    "plt.tight_layout()\n",
    "plt.show()"
   ]
  },
  {
   "cell_type": "markdown",
   "id": "1f1eecbc-18fb-476e-bdb0-b15a1db9927d",
   "metadata": {},
   "source": [
    "Mumbai is the place with highest number of employees whereas Nagpur and Bhopal has lowest number of employees"
   ]
  },
  {
   "cell_type": "markdown",
   "id": "b4ae02fe-7b93-4df3-93fd-f056f9932618",
   "metadata": {},
   "source": [
    "Convert categorical variables into numerical representations using techniques such as one-hot encoding, label encoding, making them suitable for analysis by machine learning algorithms."
   ]
  },
  {
   "cell_type": "code",
   "execution_count": 34,
   "id": "291cdcfe-9892-44de-8c08-fcb8690c6c95",
   "metadata": {},
   "outputs": [
    {
     "name": "stdout",
     "output_type": "stream",
     "text": [
      "Original Data:\n",
      "    Company_Name  Employee_Age  Employee_Salary  Location  Country_Name  \\\n",
      "0            TCS          20.0      5312.467742   Chennai             0   \n",
      "1        Infosys          30.0      5312.467742    Mumbai             0   \n",
      "2            TCS          35.0      2300.000000  Calcutta             0   \n",
      "3        Infosys          40.0      3000.000000     Delhi             0   \n",
      "4            TCS          23.0      4000.000000    Mumbai             0   \n",
      "..           ...           ...              ...       ...           ...   \n",
      "143          TCS          33.0      9024.000000  Calcutta             0   \n",
      "144      Infosys          22.0      8787.000000  Calcutta             0   \n",
      "145      Infosys          44.0      4034.000000     Delhi             0   \n",
      "146          TCS          33.0      5034.000000    Mumbai             0   \n",
      "147      Infosys          22.0      8202.000000    Cochin             0   \n",
      "\n",
      "     Gender(0=Male, 1=Female)  \n",
      "0                           0  \n",
      "1                           0  \n",
      "2                           0  \n",
      "3                           0  \n",
      "4                           0  \n",
      "..                        ...  \n",
      "143                         1  \n",
      "144                         1  \n",
      "145                         1  \n",
      "146                         1  \n",
      "147                         0  \n",
      "\n",
      "[148 rows x 6 columns]\n"
     ]
    }
   ],
   "source": [
    "# Applying Label Encoding to 'Country Name' column\n",
    "label_encoder = LabelEncoder()\n",
    "df['Country_Name'] = label_encoder.fit_transform(df['Country_Name'])\n",
    "print(\"Original Data:\")\n",
    "print(df)"
   ]
  },
  {
   "cell_type": "code",
   "execution_count": 35,
   "id": "cc91a5ca-7b69-4574-be9a-b23ab338101c",
   "metadata": {},
   "outputs": [
    {
     "name": "stdout",
     "output_type": "stream",
     "text": [
      "   Employee_Age  Employee_Salary  Country_Name  Gender(0=Male, 1=Female)  \\\n",
      "0          20.0      5312.467742             0                         0   \n",
      "1          30.0      5312.467742             0                         0   \n",
      "2          35.0      2300.000000             0                         0   \n",
      "3          40.0      3000.000000             0                         0   \n",
      "4          23.0      4000.000000             0                         0   \n",
      "\n",
      "   Company_Name_Congnizant  Company_Name_Infosys  \\\n",
      "0                      0.0                   0.0   \n",
      "1                      0.0                   1.0   \n",
      "2                      0.0                   0.0   \n",
      "3                      0.0                   1.0   \n",
      "4                      0.0                   0.0   \n",
      "\n",
      "   Company_Name_Infosys Pvt Lmt  Company_Name_TCS  \\\n",
      "0                           0.0               1.0   \n",
      "1                           0.0               0.0   \n",
      "2                           0.0               1.0   \n",
      "3                           0.0               0.0   \n",
      "4                           0.0               1.0   \n",
      "\n",
      "   Company_Name_Tata Consultancy Services  Location_Calcutta  \\\n",
      "0                                     0.0                0.0   \n",
      "1                                     0.0                0.0   \n",
      "2                                     0.0                1.0   \n",
      "3                                     0.0                0.0   \n",
      "4                                     0.0                0.0   \n",
      "\n",
      "   Location_Chennai  Location_Cochin  Location_Delhi  Location_Hyderabad  \\\n",
      "0               1.0              0.0             0.0                 0.0   \n",
      "1               0.0              0.0             0.0                 0.0   \n",
      "2               0.0              0.0             0.0                 0.0   \n",
      "3               0.0              0.0             1.0                 0.0   \n",
      "4               0.0              0.0             0.0                 0.0   \n",
      "\n",
      "   Location_Mumbai  Location_Nagpur  Location_Noida  Location_Podicherry  \\\n",
      "0              0.0              0.0             0.0                  0.0   \n",
      "1              1.0              0.0             0.0                  0.0   \n",
      "2              0.0              0.0             0.0                  0.0   \n",
      "3              0.0              0.0             0.0                  0.0   \n",
      "4              1.0              0.0             0.0                  0.0   \n",
      "\n",
      "   Location_Pune  \n",
      "0            0.0  \n",
      "1            0.0  \n",
      "2            0.0  \n",
      "3            0.0  \n",
      "4            0.0  \n"
     ]
    }
   ],
   "source": [
    "# Applying one hot encoding to columns 'Company_Name'and 'Location'\n",
    "one_hot_encoder = OneHotEncoder(drop='first', sparse_output=False)  #OneHotEncoder instance\n",
    "categorical_cols = ['Company_Name', 'Location']\n",
    "encoded_data = one_hot_encoder.fit_transform(df[categorical_cols])\n",
    "encoded_df = pd.DataFrame(encoded_data, columns=one_hot_encoder.get_feature_names_out(categorical_cols))  # Creating a DataFrame with the encoded columns\n",
    "df = pd.concat([df.drop(columns=categorical_cols), encoded_df], axis=1)\n",
    "print(df.head())"
   ]
  },
  {
   "cell_type": "code",
   "execution_count": 36,
   "id": "7674b518-f8a5-4348-b0ca-2546ec798fe1",
   "metadata": {},
   "outputs": [],
   "source": [
    "# 3. Splitting the Data rondomly (80-20% split)\n",
    "X = df[['Employee_Age', 'Employee_Salary']]  # Features\n",
    "y = df['Gender(0=Male, 1=Female)']  # Target variable\n",
    "# Here I assumed the columns ['Employee_Age', 'Employee_Salary'] as features and column ['Gender(0=Male, 1=Female)'] as the target variable."
   ]
  },
  {
   "cell_type": "code",
   "execution_count": 67,
   "id": "b34e00fc-0189-4a2d-92f4-74fc419668e4",
   "metadata": {},
   "outputs": [
    {
     "name": "stdout",
     "output_type": "stream",
     "text": [
      "\n",
      "Training Data (Features):\n",
      "     Employee_Age  Employee_Salary\n",
      "136           NaN      5312.467742\n",
      "45           46.0      9000.000000\n",
      "119          33.0      1089.000000\n",
      "27           45.0      9284.000000\n",
      "4            23.0      4000.000000\n",
      "..            ...              ...\n",
      "71           34.0      9024.000000\n",
      "106          22.0      8202.000000\n",
      "14           40.0      3000.000000\n",
      "92            NaN      3045.000000\n",
      "102          44.0      5312.467742\n",
      "\n",
      "[118 rows x 2 columns]\n",
      "\n",
      "Testing Data (Features):\n",
      "     Employee_Age  Employee_Salary\n",
      "125          33.0      5654.000000\n",
      "51           24.0      3000.000000\n",
      "139          22.0      2934.000000\n",
      "19           32.0      5312.467742\n",
      "104          44.0      4034.000000\n",
      "12           45.0      5312.467742\n",
      "76           32.0      4000.000000\n",
      "31           20.0      2934.000000\n",
      "81           43.0      9000.000000\n",
      "9            45.0      9000.000000\n",
      "26           34.0      8345.000000\n",
      "96            NaN      7084.000000\n",
      "144          22.0      8787.000000\n",
      "67           21.0      2934.000000\n",
      "135          40.0      9284.000000\n",
      "66           41.0      5312.467742\n",
      "18           22.0      5312.467742\n",
      "69           32.0      5034.000000\n",
      "124          22.0      8787.000000\n",
      "30           46.0      7654.000000\n",
      "29           35.0      2034.000000\n",
      "105          33.0      5034.000000\n",
      "36           32.0      5312.467742\n",
      "118          22.0      5312.467742\n",
      "55           32.0      7654.000000\n",
      "22           21.0      4824.000000\n",
      "64           25.0      6543.000000\n",
      "131           NaN      5835.000000\n",
      "82           22.0      5312.467742\n",
      "11           34.0      1089.000000\n"
     ]
    }
   ],
   "source": [
    "X_train, X_test, y_train, y_test = train_test_split(X, y, test_size=0.2, random_state=42)\n",
    "print(\"\\nTraining Data (Features):\")\n",
    "print(X_train)\n",
    "print(\"\\nTesting Data (Features):\")\n",
    "print(X_test)"
   ]
  },
  {
   "cell_type": "code",
   "execution_count": 73,
   "id": "3753a2d2-910e-4973-be8d-6901d118772a",
   "metadata": {},
   "outputs": [],
   "source": [
    "# StandardScaler (Standard Scaling) mean=0,std=1\n",
    "scaler_standard = StandardScaler()\n",
    "X_train_scaled_standard = scaler_standard.fit_transform(X_train)\n",
    "X_test_scaled_standard = scaler_standard.transform(X_test)"
   ]
  },
  {
   "cell_type": "code",
   "execution_count": 75,
   "id": "ae300430-3206-4bbc-959b-b0a80217c519",
   "metadata": {},
   "outputs": [],
   "source": [
    "# MinMaxScaler (Normalization)\n",
    "scaler_minmax = MinMaxScaler()\n",
    "X_train_scaled_minmax = scaler_minmax.fit_transform(X_train)\n",
    "X_test_scaled_minmax = scaler_minmax.transform(X_test)"
   ]
  },
  {
   "cell_type": "code",
   "execution_count": 77,
   "id": "ea97e1f5-0f95-4139-9c79-d85c94809fc7",
   "metadata": {},
   "outputs": [
    {
     "name": "stdout",
     "output_type": "stream",
     "text": [
      "\n",
      "Standard Scaled Training Data:\n",
      "[[        nan  0.03311646]\n",
      " [ 1.51891468  1.58403132]\n",
      " [ 0.09257494 -1.74320397]\n",
      " [ 1.40919624  1.70347701]\n",
      " [-1.00460948 -0.51888569]\n",
      " [-0.23658039 -0.05708511]\n",
      " [-0.12686195  1.30854919]\n",
      " [ 0.09257494 -0.08400245]\n",
      " [        nan  0.32228112]\n",
      " [-1.00460948 -0.92685159]\n",
      " [-1.00460948  0.03311646]\n",
      " [-1.11432792  1.49444706]\n",
      " [-1.66292013 -1.68221938]\n",
      " [ 1.29947779 -0.50458585]\n",
      " [ 0.64116714 -0.92054284]\n",
      " [ 2.39666221 -0.86208175]\n",
      " [ 0.09257494 -0.08400245]\n",
      " [ 0.09257494  0.03311646]\n",
      " [-1.33376481  0.03311646]\n",
      " [ 0.20229338  0.03311646]\n",
      " [-0.12686195 -1.34575266]\n",
      " [-1.00460948  1.95246238]\n",
      " [-0.89489104 -0.37378442]\n",
      " [        nan  0.77819352]\n",
      " [        nan  0.77819352]\n",
      " [-1.00460948  1.56005807]\n",
      " [        nan  0.25288485]\n",
      " [ 1.29947779  1.95246238]\n",
      " [ 1.18975935  0.03311646]\n",
      " [ 0.09257494  1.59412532]\n",
      " [ 0.31201182  1.16344792]\n",
      " [-1.00460948 -0.93946909]\n",
      " [        nan -1.34575266]\n",
      " [ 0.97032247 -0.93946909]\n",
      " [ 1.18975935 -0.50458585]\n",
      " [        nan  0.1351215 ]\n",
      " [-0.01714351 -1.74320397]\n",
      " [-1.11432792 -0.17232497]\n",
      " [ 0.09257494 -1.23387747]\n",
      " [ 0.42173026 -0.08400245]\n",
      " [ 0.97032247 -0.93946909]\n",
      " [ 0.09257494  1.30854919]\n",
      " [ 0.42173026  1.30854919]\n",
      " [-1.33376481 -0.09451704]\n",
      " [        nan  0.32228112]\n",
      " [ 0.31201182 -0.09830229]\n",
      " [        nan -0.09830229]\n",
      " [ 1.29947779  0.03311646]\n",
      " [-1.11432792  1.56005807]\n",
      " [-1.44348325 -1.68221938]\n",
      " [ 0.31201182  1.59412532]\n",
      " [-0.01714351  1.16344792]\n",
      " [        nan -0.09830229]\n",
      " [-0.67545416  1.24840577]\n",
      " [        nan -0.84105258]\n",
      " [-1.00460948  0.74286452]\n",
      " [-0.7851726   0.74286452]\n",
      " [-1.22404636  1.24840577]\n",
      " [        nan  0.25288485]\n",
      " [ 0.09257494 -1.74320397]\n",
      " [        nan  0.77819352]\n",
      " [-1.11432792  1.56005807]\n",
      " [ 0.42173026 -0.09830229]\n",
      " [ 0.20229338  1.16344792]\n",
      " [-1.55320169 -1.68221938]\n",
      " [-0.12686195 -1.34575266]\n",
      " [ 1.29947779 -0.84105258]\n",
      " [ 0.86060403 -0.93946909]\n",
      " [ 0.20229338 -0.09830229]\n",
      " [ 0.20229338 -1.23387747]\n",
      " [-0.89489104  0.03311646]\n",
      " [ 0.09257494 -0.92054284]\n",
      " [        nan  0.32228112]\n",
      " [ 0.09257494  0.03311646]\n",
      " [-1.11432792  0.03311646]\n",
      " [ 0.31201182 -1.23387747]\n",
      " [ 0.97032247  1.70347701]\n",
      " [-1.22404636  0.55107849]\n",
      " [        nan -0.74852423]\n",
      " [ 0.97032247 -0.93946909]\n",
      " [-1.11432792 -0.38261667]\n",
      " [-0.89489104  0.03311646]\n",
      " [        nan  0.08465149]\n",
      " [-0.7851726   1.56005807]\n",
      " [ 1.29947779 -0.50458585]\n",
      " [-0.67545416  0.74286452]\n",
      " [        nan  0.25288485]\n",
      " [ 0.20229338  0.03311646]\n",
      " [        nan -0.09830229]\n",
      " [-1.00460948 -0.17232497]\n",
      " [-1.22404636  0.03311646]\n",
      " [ 1.18975935  0.03311646]\n",
      " [        nan -0.92685159]\n",
      " [        nan  1.59412532]\n",
      " [ 1.95778844 -0.86208175]\n",
      " [ 2.06750689 -0.86208175]\n",
      " [ 1.29947779 -0.93946909]\n",
      " [ 1.40919624 -0.50458585]\n",
      " [-1.11432792  1.24840577]\n",
      " [ 1.95778844 -0.86208175]\n",
      " [ 0.31201182  0.03311646]\n",
      " [ 1.29947779 -0.92558984]\n",
      " [-0.23658039  0.03311646]\n",
      " [-1.22404636 -0.92685159]\n",
      " [-1.22404636 -0.17232497]\n",
      " [-1.11432792 -0.9672276 ]\n",
      " [ 1.29947779  1.70347701]\n",
      " [ 0.09257494  1.49444706]\n",
      " [-1.22404636 -0.93946909]\n",
      " [ 0.5314487  -1.23387747]\n",
      " [        nan -1.68221938]\n",
      " [-1.11432792  1.24840577]\n",
      " [ 0.5314487  -0.92054284]\n",
      " [ 0.20229338  1.59412532]\n",
      " [-1.11432792  1.24840577]\n",
      " [ 0.86060403 -0.93946909]\n",
      " [        nan -0.92054284]\n",
      " [ 1.29947779  0.03311646]]\n",
      "\n",
      "Min-Max Scaled Training Data:\n",
      "[[       nan 0.48064957]\n",
      " [0.78378378 0.90030727]\n",
      " [0.43243243 0.        ]\n",
      " [0.75675676 0.93262775]\n",
      " [0.16216216 0.33128485]\n",
      " [0.35135135 0.45624218]\n",
      " [0.37837838 0.82576534]\n",
      " [0.43243243 0.44895869]\n",
      " [       nan 0.55889382]\n",
      " [0.16216216 0.2208945 ]\n",
      " [0.16216216 0.48064957]\n",
      " [0.13513514 0.87606692]\n",
      " [0.         0.01650165]\n",
      " [0.72972973 0.33515421]\n",
      " [0.56756757 0.22260157]\n",
      " [1.         0.23842039]\n",
      " [0.43243243 0.44895869]\n",
      " [0.43243243 0.48064957]\n",
      " [0.08108108 0.48064957]\n",
      " [0.45945946 0.48064957]\n",
      " [0.37837838 0.10754524]\n",
      " [0.16216216 1.        ]\n",
      " [0.18918919 0.3705474 ]\n",
      " [       nan 0.68225788]\n",
      " [       nan 0.68225788]\n",
      " [0.16216216 0.89382042]\n",
      " [       nan 0.54011608]\n",
      " [0.72972973 1.        ]\n",
      " [0.7027027  0.48064957]\n",
      " [0.43243243 0.90303858]\n",
      " [0.48648649 0.78650279]\n",
      " [0.16216216 0.21748037]\n",
      " [       nan 0.10754524]\n",
      " [0.64864865 0.21748037]\n",
      " [0.7027027  0.33515421]\n",
      " [       nan 0.50825083]\n",
      " [0.40540541 0.        ]\n",
      " [0.13513514 0.42505975]\n",
      " [0.43243243 0.13781723]\n",
      " [0.51351351 0.44895869]\n",
      " [0.64864865 0.21748037]\n",
      " [0.43243243 0.82576534]\n",
      " [0.51351351 0.82576534]\n",
      " [0.08108108 0.44611358]\n",
      " [       nan 0.55889382]\n",
      " [0.48648649 0.44508934]\n",
      " [       nan 0.44508934]\n",
      " [0.72972973 0.48064957]\n",
      " [0.13513514 0.89382042]\n",
      " [0.05405405 0.01650165]\n",
      " [0.48648649 0.90303858]\n",
      " [0.40540541 0.78650279]\n",
      " [       nan 0.44508934]\n",
      " [0.24324324 0.80949129]\n",
      " [       nan 0.24411062]\n",
      " [0.16216216 0.6726983 ]\n",
      " [0.21621622 0.6726983 ]\n",
      " [0.10810811 0.80949129]\n",
      " [       nan 0.54011608]\n",
      " [0.43243243 0.        ]\n",
      " [       nan 0.68225788]\n",
      " [0.13513514 0.89382042]\n",
      " [0.51351351 0.44508934]\n",
      " [0.45945946 0.78650279]\n",
      " [0.02702703 0.01650165]\n",
      " [0.37837838 0.10754524]\n",
      " [0.72972973 0.24411062]\n",
      " [0.62162162 0.21748037]\n",
      " [0.45945946 0.44508934]\n",
      " [0.45945946 0.13781723]\n",
      " [0.18918919 0.48064957]\n",
      " [0.43243243 0.22260157]\n",
      " [       nan 0.55889382]\n",
      " [0.43243243 0.48064957]\n",
      " [0.13513514 0.48064957]\n",
      " [0.48648649 0.13781723]\n",
      " [0.64864865 0.93262775]\n",
      " [0.10810811 0.62080346]\n",
      " [       nan 0.2691476 ]\n",
      " [0.64864865 0.21748037]\n",
      " [0.13513514 0.36815751]\n",
      " [0.18918919 0.48064957]\n",
      " [       nan 0.49459429]\n",
      " [0.21621622 0.89382042]\n",
      " [0.72972973 0.33515421]\n",
      " [0.24324324 0.6726983 ]\n",
      " [       nan 0.54011608]\n",
      " [0.45945946 0.48064957]\n",
      " [       nan 0.44508934]\n",
      " [0.16216216 0.42505975]\n",
      " [0.10810811 0.48064957]\n",
      " [0.7027027  0.48064957]\n",
      " [       nan 0.2208945 ]\n",
      " [       nan 0.90303858]\n",
      " [0.89189189 0.23842039]\n",
      " [0.91891892 0.23842039]\n",
      " [0.72972973 0.21748037]\n",
      " [0.75675676 0.33515421]\n",
      " [0.13513514 0.80949129]\n",
      " [0.89189189 0.23842039]\n",
      " [0.48648649 0.48064957]\n",
      " [0.72972973 0.22123592]\n",
      " [0.35135135 0.48064957]\n",
      " [0.10810811 0.2208945 ]\n",
      " [0.10810811 0.42505975]\n",
      " [0.13513514 0.20996927]\n",
      " [0.72972973 0.93262775]\n",
      " [0.43243243 0.87606692]\n",
      " [0.10810811 0.21748037]\n",
      " [0.54054054 0.13781723]\n",
      " [       nan 0.01650165]\n",
      " [0.13513514 0.80949129]\n",
      " [0.54054054 0.22260157]\n",
      " [0.45945946 0.90303858]\n",
      " [0.13513514 0.80949129]\n",
      " [0.62162162 0.21748037]\n",
      " [       nan 0.22260157]\n",
      " [0.72972973 0.48064957]]\n"
     ]
    }
   ],
   "source": [
    "print(\"\\nStandard Scaled Training Data:\")\n",
    "print(X_train_scaled_standard)\n",
    "print(\"\\nMin-Max Scaled Training Data:\")\n",
    "print(X_train_scaled_minmax)"
   ]
  },
  {
   "cell_type": "code",
   "execution_count": null,
   "id": "061d7e4b-cc07-49dc-9578-b1749889eeaa",
   "metadata": {},
   "outputs": [],
   "source": []
  }
 ],
 "metadata": {
  "kernelspec": {
   "display_name": "Python 3 (ipykernel)",
   "language": "python",
   "name": "python3"
  },
  "language_info": {
   "codemirror_mode": {
    "name": "ipython",
    "version": 3
   },
   "file_extension": ".py",
   "mimetype": "text/x-python",
   "name": "python",
   "nbconvert_exporter": "python",
   "pygments_lexer": "ipython3",
   "version": "3.12.7"
  }
 },
 "nbformat": 4,
 "nbformat_minor": 5
}
